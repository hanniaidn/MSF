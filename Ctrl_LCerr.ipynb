{
 "cells": [
  {
   "cell_type": "markdown",
   "metadata": {},
   "source": [
    "Controlabilidad de Systema de Lazo Cerrado  25/09/24"
   ]
  },
  {
   "cell_type": "code",
   "execution_count": 4,
   "metadata": {},
   "outputs": [],
   "source": [
    "import numpy as np\n",
    "import matplotlib.pyplot as plt \n",
    "import control as ctrl\n",
    "from scipy.integrate import odeint "
   ]
  },
  {
   "cell_type": "code",
   "execution_count": 7,
   "metadata": {},
   "outputs": [],
   "source": [
    "# parametros del sistema \n",
    "m = 0.5\n",
    "l = 0.30\n",
    "kf = 0.0\n",
    "g = 9.81\n",
    "u=0 #es la tao del sistema\n",
    "\n",
    "# Initial conditions\n",
    "y0 = [np.pi/4, 0.0]\n",
    "h = 1e-3\n",
    "tfin = 1\n",
    "N = np.int64(np.ceil((tfin-h)/h))\n",
    "t = h + np.arange(0,N)*h"
   ]
  },
  {
   "cell_type": "code",
   "execution_count": 8,
   "metadata": {},
   "outputs": [],
   "source": [
    "# sistema \n",
    "def sp(y, t, m, l, g, kf,u):\n",
    "    x1, x2 = y   # hacemos que y tome los valores de x1 & x2 en una matriz \n",
    "    \n",
    "    # sacamos la derivada de x1 que hicimos en clase el 12/8/24 \n",
    "    dxdt = [x2,\n",
    "            -g/l*np.sin(x1) - kf/m*x2 + u/m*l**2]\n",
    "    \n",
    "    return dxdt"
   ]
  },
  {
   "cell_type": "code",
   "execution_count": 9,
   "metadata": {},
   "outputs": [],
   "source": [
    "def solt(y0, t, m, g, l, kf, u):\n",
    "    sol = odeint(sp, y0, t, args = (m, g, l, kf, u))\n",
    "    \n",
    "    x1 = sol[:, 0]\n",
    "    x2 = sol[:, 1]\n",
    "\n",
    "    xpp =-g/l*np.sin(x1) - kf/m*x2 + u/m*l**2 #velocidad del objeto\n",
    "    \n",
    "    h = t[1] - t[0] # de acuerdo con el teorema de la derivada necesitamos un cambio o paso \"h\" que va a ser este \n",
    "    \n",
    "    xpp_num = np.diff(np.diff(x1)/h)/h\n",
    "    \n",
    "    return sol, xpp, xpp_num"
   ]
  },
  {
   "cell_type": "code",
   "execution_count": null,
   "metadata": {},
   "outputs": [],
   "source": [
    "#para obtener eigenvalues a partir de los puntos de equilibrio \n",
    "x1=\n",
    "x2=0\n",
    "\n",
    "A = np.array([[0, 1, 0],\n",
    "             [((c/m)*(x3**2/x1**2)), 0, ((-2*c/m)*(x3/x1))],\n",
    "             [0, 0, -R/L]])\n",
    "\n",
    "B = np.array([[0],\n",
    "              [0],\n",
    "              [u/L]])\n",
    "\n",
    "C = np.array([1, 0, 0])\n",
    "\n",
    "eig=np.linalg.eigvals(A)\n",
    "print(eig)\n"
   ]
  }
 ],
 "metadata": {
  "kernelspec": {
   "display_name": ".venv",
   "language": "python",
   "name": "python3"
  },
  "language_info": {
   "codemirror_mode": {
    "name": "ipython",
    "version": 3
   },
   "file_extension": ".py",
   "mimetype": "text/x-python",
   "name": "python",
   "nbconvert_exporter": "python",
   "pygments_lexer": "ipython3",
   "version": "3.12.5"
  }
 },
 "nbformat": 4,
 "nbformat_minor": 2
}
